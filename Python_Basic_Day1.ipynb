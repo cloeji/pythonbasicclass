{
  "nbformat": 4,
  "nbformat_minor": 0,
  "metadata": {
    "colab": {
      "name": "Python Basic Day1.ipynb",
      "provenance": [],
      "authorship_tag": "ABX9TyOavUxGCXnHjygRN9lT+ImU",
      "include_colab_link": true
    },
    "kernelspec": {
      "name": "python3",
      "display_name": "Python 3"
    },
    "language_info": {
      "name": "python"
    }
  },
  "cells": [
    {
      "cell_type": "markdown",
      "metadata": {
        "id": "view-in-github",
        "colab_type": "text"
      },
      "source": [
        "<a href=\"https://colab.research.google.com/github/cloeji/pythonbasicclass2/blob/main/Python_Basic_Day1.ipynb\" target=\"_parent\"><img src=\"https://colab.research.google.com/assets/colab-badge.svg\" alt=\"Open In Colab\"/></a>"
      ]
    },
    {
      "cell_type": "code",
      "execution_count": 2,
      "metadata": {
        "id": "A_2VqKIc3Hyb"
      },
      "outputs": [],
      "source": [
        "# 파이썬이란!!!\n",
        "\n",
        "# 1991  네덜란드 '귀도 반 로섬' 에 의해 개발된 언어\n",
        "# 본래 '비단뱀'이라는 뜻을 가지고 있어 로고 등 대부분의 로고등을 뱀으로 나타낸다. \n",
        "\n",
        "# 파이썬의 특징\n",
        "# 1)파이썬은 인터프리터 언어이다.(컴파일러가 아니다./인터파일러는 한줄 한줄)\n",
        "\n",
        "# 2)플랫폼에 독립적이다.(플랫폼: 윈도우 맥 상관없음)\n",
        "\n",
        "# 3)객체 지향 언어이다.(objective oriented language)\n",
        "\n",
        "# 4)동적 파이핑 언어이다.\n",
        "\n",
        "# 5)개발 속도가 빠르다.(웹사이트 만드는 때 장고 사용, 그림 그릴 때 맷플라라이브러리, 인공지능 싸이킥러닝라이브러리  갖다 쓴다!)\n",
        "\n",
        "# *개발 환경 - web: colab , local: Anaconda or vs code , Pycharm은 유명하지만 유료, 교재의 idle은 아무도 안 씀\n",
        "\n"
      ]
    },
    {
      "cell_type": "code",
      "source": [
        "# 주석 comment\n",
        "# 코드에 설명을 작성하는 부분\n",
        "# 주석은 프로그램 실행에 전혀 영향을 주지 않는다. \n",
        "# 주석은 '#'기호를 사용하거나 '''주석 ''' \"\"\"주석 \"\"\"(3중 작은 따음표나 3중 큰 따음표--> 얘네는 주석처럼 사용가능한 것, 진짜 주석은 #뿐이다, 3중 따음표는 컴퓨터가 읽기는 한다, 장점은 여러줄을 그냥 작성할 수 있다는 점)"
      ],
      "metadata": {
        "id": "Lym1buSV-F3q"
      },
      "execution_count": 3,
      "outputs": []
    },
    {
      "cell_type": "code",
      "source": [
        "''' Docstring\n",
        "파일명: Ex02-1.py\n",
        "개요: 반지름을 전달하면 원의 넓이를 반환\n",
        "작성자: 홍길동\n",
        "작성일: 2020-0825\n",
        "'''\n",
        "\n",
        "# math  모듈 포함\n",
        "import math\n",
        "\n",
        "def get_area(radius): \n",
        "  \"\"\"반지름은 입력받아 원의 넓이를 반환하는 get_area()함수\"\"\"\n",
        "  area=math.pi*math.pow*(radius,2)\n",
        "  return area\n",
        "\n",
        "radius=1.5\n",
        "# get area() 함수 호줄 결과를 area 변수에 저장\n",
        "area=get_area(radius)\n",
        "print(area)\n",
        "print(get_area._doc_) "
      ],
      "metadata": {
        "colab": {
          "base_uri": "https://localhost:8080/",
          "height": 374
        },
        "id": "Vgoarlt__K0i",
        "outputId": "7518af7a-df19-4783-c650-415a2ca6abf0"
      },
      "execution_count": 8,
      "outputs": [
        {
          "output_type": "error",
          "ename": "TypeError",
          "evalue": "ignored",
          "traceback": [
            "\u001b[0;31m---------------------------------------------------------------------------\u001b[0m",
            "\u001b[0;31mTypeError\u001b[0m                                 Traceback (most recent call last)",
            "\u001b[0;32m<ipython-input-8-a8c179915566>\u001b[0m in \u001b[0;36m<module>\u001b[0;34m()\u001b[0m\n\u001b[1;32m     16\u001b[0m \u001b[0mradius\u001b[0m\u001b[0;34m=\u001b[0m\u001b[0;36m1.5\u001b[0m\u001b[0;34m\u001b[0m\u001b[0;34m\u001b[0m\u001b[0m\n\u001b[1;32m     17\u001b[0m \u001b[0;31m# get area() 함수 호줄 결과를 area 변수에 저장\u001b[0m\u001b[0;34m\u001b[0m\u001b[0;34m\u001b[0m\u001b[0;34m\u001b[0m\u001b[0m\n\u001b[0;32m---> 18\u001b[0;31m \u001b[0marea\u001b[0m\u001b[0;34m=\u001b[0m\u001b[0mget_area\u001b[0m\u001b[0;34m(\u001b[0m\u001b[0mradius\u001b[0m\u001b[0;34m)\u001b[0m\u001b[0;34m\u001b[0m\u001b[0;34m\u001b[0m\u001b[0m\n\u001b[0m\u001b[1;32m     19\u001b[0m \u001b[0mprint\u001b[0m\u001b[0;34m(\u001b[0m\u001b[0marea\u001b[0m\u001b[0;34m)\u001b[0m\u001b[0;34m\u001b[0m\u001b[0;34m\u001b[0m\u001b[0m\n\u001b[1;32m     20\u001b[0m \u001b[0mprint\u001b[0m\u001b[0;34m(\u001b[0m\u001b[0mget_area\u001b[0m\u001b[0;34m.\u001b[0m\u001b[0m_doc_\u001b[0m\u001b[0;34m)\u001b[0m\u001b[0;34m\u001b[0m\u001b[0;34m\u001b[0m\u001b[0m\n",
            "\u001b[0;32m<ipython-input-8-a8c179915566>\u001b[0m in \u001b[0;36mget_area\u001b[0;34m(radius)\u001b[0m\n\u001b[1;32m     11\u001b[0m \u001b[0;32mdef\u001b[0m \u001b[0mget_area\u001b[0m\u001b[0;34m(\u001b[0m\u001b[0mradius\u001b[0m\u001b[0;34m)\u001b[0m\u001b[0;34m:\u001b[0m\u001b[0;34m\u001b[0m\u001b[0;34m\u001b[0m\u001b[0m\n\u001b[1;32m     12\u001b[0m   \u001b[0;34m\"\"\"반지름은 입력받아 원의 넓이를 반환하는 get_area()함수\"\"\"\u001b[0m\u001b[0;34m\u001b[0m\u001b[0;34m\u001b[0m\u001b[0m\n\u001b[0;32m---> 13\u001b[0;31m   \u001b[0marea\u001b[0m\u001b[0;34m=\u001b[0m\u001b[0mmath\u001b[0m\u001b[0;34m.\u001b[0m\u001b[0mpi\u001b[0m\u001b[0;34m*\u001b[0m\u001b[0mmath\u001b[0m\u001b[0;34m.\u001b[0m\u001b[0mpow\u001b[0m\u001b[0;34m*\u001b[0m\u001b[0;34m(\u001b[0m\u001b[0mradius\u001b[0m\u001b[0;34m,\u001b[0m\u001b[0;36m2\u001b[0m\u001b[0;34m)\u001b[0m\u001b[0;34m\u001b[0m\u001b[0;34m\u001b[0m\u001b[0m\n\u001b[0m\u001b[1;32m     14\u001b[0m   \u001b[0;32mreturn\u001b[0m \u001b[0marea\u001b[0m\u001b[0;34m\u001b[0m\u001b[0;34m\u001b[0m\u001b[0m\n\u001b[1;32m     15\u001b[0m \u001b[0;34m\u001b[0m\u001b[0m\n",
            "\u001b[0;31mTypeError\u001b[0m: unsupported operand type(s) for *: 'float' and 'builtin_function_or_method'"
          ]
        }
      ]
    },
    {
      "cell_type": "code",
      "source": [
        "#변수 variable\n",
        "\n",
        "# 어떤 데이터를 저장할때 사용되는 저장소\n",
        "\n",
        "score = 100    #socore 라는 이름의 변수에 100을 넣는다.\n",
        "print(score)\n",
        "\n",
        "#변수 이름 생성 규칙\n",
        "\n",
        "# 1)영문, 한글, 숫자, 밑줄로 구성된다.(한글은 변수명으로 사용하지 말자)\n",
        "# 2)특수문자는 사용할 수 없다.\n",
        "# 3)대문자와 소문자는 구별한다.(R과 SQL은 구분 못 한다)\n",
        "# 4)변수명 첫문자에 숫자는 쓸 수 없다.\n",
        "# 5)예약어(키워드)는 사용할 수 없다.(가령 if)\n",
        "\n",
        "# *가급적 소문자로만 만든다.\n",
        "# *한글은 사용이 가능하지만 가급적 사용하지 말자\n",
        "# *가급적 의미있는 단어를 사용하자.\n",
        "\n",
        "a2=100\n",
        "2a=200\n",
        "$=300\n",
        "학교=400\n",
        "a=100\n",
        "A=200\n",
        "\n",
        "print(a)\n",
        "print(A)\n",
        "print($)\n",
        "print(학교)\n",
        "print(a2)\n",
        "print(2a)"
      ],
      "metadata": {
        "colab": {
          "base_uri": "https://localhost:8080/",
          "height": 136
        },
        "id": "ka-ti_mMCIoQ",
        "outputId": "0dbc91b8-d716-4c96-8038-dd4a452c82fe"
      },
      "execution_count": 13,
      "outputs": [
        {
          "output_type": "error",
          "ename": "SyntaxError",
          "evalue": "ignored",
          "traceback": [
            "\u001b[0;36m  File \u001b[0;32m\"<ipython-input-13-991146d5cf81>\"\u001b[0;36m, line \u001b[0;32m21\u001b[0m\n\u001b[0;31m    2a=200\u001b[0m\n\u001b[0m     ^\u001b[0m\n\u001b[0;31mSyntaxError\u001b[0m\u001b[0;31m:\u001b[0m invalid syntax\n"
          ]
        }
      ]
    },
    {
      "cell_type": "code",
      "source": [
        "name = 'Alice'\n",
        "age = 25\n",
        "address = '''우편번호 12345\n",
        "서울시 영등포구 여의도동\n",
        "서울빌딩 501호'''\n",
        "\n",
        "address2 = '우편번호 12345 Wn서울시 영등포구 여의도동 Wn서울빌딩 501호'\n",
        "\n",
        "boyfriend = None\n",
        "height = 168.5\n",
        "\n",
        "print(name)\n",
        "print(age)\n",
        "print(address)\n",
        "print(boyfriend)\n",
        "print(height)\n"
      ],
      "metadata": {
        "colab": {
          "base_uri": "https://localhost:8080/"
        },
        "id": "yWsAvJNZJdBd",
        "outputId": "b2e55bce-3ab8-4f90-a8eb-47f15b0cc696"
      },
      "execution_count": 29,
      "outputs": [
        {
          "output_type": "stream",
          "name": "stdout",
          "text": [
            "Alice\n",
            "25\n",
            "우편번호 12345\n",
            "서울시 영등포구 여의도동\n",
            "서울빌딩 501호\n",
            "None\n",
            "168.5\n"
          ]
        }
      ]
    }
  ]
}