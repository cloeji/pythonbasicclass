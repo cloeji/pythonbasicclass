{
  "nbformat": 4,
  "nbformat_minor": 0,
  "metadata": {
    "colab": {
      "name": "Python_Basic_Day4.ipynb",
      "provenance": [],
      "authorship_tag": "ABX9TyOrhgR5E04f4nC/pv+ERbLj",
      "include_colab_link": true
    },
    "kernelspec": {
      "name": "python3",
      "display_name": "Python 3"
    },
    "language_info": {
      "name": "python"
    }
  },
  "cells": [
    {
      "cell_type": "markdown",
      "metadata": {
        "id": "view-in-github",
        "colab_type": "text"
      },
      "source": [
        "<a href=\"https://colab.research.google.com/github/cloeji/pythonbasicclass/blob/main/Python_Basic_Day4.ipynb\" target=\"_parent\"><img src=\"https://colab.research.google.com/assets/colab-badge.svg\" alt=\"Open In Colab\"/></a>"
      ]
    },
    {
      "cell_type": "code",
      "execution_count": 1,
      "metadata": {
        "colab": {
          "base_uri": "https://localhost:8080/"
        },
        "id": "DzzP2o_jyZZs",
        "outputId": "7eb896a7-2b78-4fe8-afde-2387fc654660"
      },
      "outputs": [
        {
          "output_type": "stream",
          "name": "stdout",
          "text": [
            "정수를 입력하세요>>>12\n",
            "<class 'str'>\n"
          ]
        }
      ],
      "source": [
        "# 형 변환 (page 64)\n",
        "\n",
        "# input() 함수를 사용할 때 주의할 점\n",
        "# input()은 모든 입력을  str(문자열)로 저장한다는 점이다.\n",
        "# 따라서 숫자를 입력해도 문자로 받아들인다.\n",
        "\n",
        "n = input('정수를 입력하세요>>>')\n",
        "print(type(n))\n"
      ]
    },
    {
      "cell_type": "code",
      "source": [
        "n = int(input('정수를 입력하세요>>>'))  #형변환이 필요하다=casting\n",
        "print(type(n))"
      ],
      "metadata": {
        "colab": {
          "base_uri": "https://localhost:8080/"
        },
        "id": "bVJYDOAF0QI_",
        "outputId": "20613af7-c1cf-4c57-83d7-0bf435839f38"
      },
      "execution_count": 2,
      "outputs": [
        {
          "output_type": "stream",
          "name": "stdout",
          "text": [
            "정수를 입력하세요>>>12\n",
            "<class 'int'>\n"
          ]
        }
      ]
    },
    {
      "cell_type": "code",
      "source": [
        "price = 50000\n",
        "n = int(input('할부 개월 입력 >>>'))\n",
        "print('매달 내는 돈은 {}입니다.' .format(price/n))"
      ],
      "metadata": {
        "colab": {
          "base_uri": "https://localhost:8080/"
        },
        "id": "Ya48pgH70fm3",
        "outputId": "f3d0fe81-e04d-4367-d262-6b354d9efc40"
      },
      "execution_count": 3,
      "outputs": [
        {
          "output_type": "stream",
          "name": "stdout",
          "text": [
            "할부 개월 입력 >>>10\n",
            "매달 내는 돈은 5000.0입니다.\n"
          ]
        }
      ]
    },
    {
      "cell_type": "code",
      "source": [
        "# 1번\n",
        "a = float(input('첫 번째 실수를 입력하세요>>>'))\n",
        "b = float(input('두 번째 실수를 입력하세요>>>'))\n",
        "print(f'{a}와 {b}의 합은 {a+b} 입니다.')"
      ],
      "metadata": {
        "colab": {
          "base_uri": "https://localhost:8080/"
        },
        "id": "kpad4bbg0_Gv",
        "outputId": "407a0404-3474-4db6-acde-45fc07841d03"
      },
      "execution_count": 6,
      "outputs": [
        {
          "output_type": "stream",
          "name": "stdout",
          "text": [
            "첫 번째 실수를 입력하세요>>>1.23\n",
            "두 번째 실수를 입력하세요>>>2.34\n",
            "1.23와 2.34의 합은 3.57 입니다.\n"
          ]
        }
      ]
    },
    {
      "cell_type": "code",
      "source": [
        "#형변환을 하지 않았을 때의 오류! 숫자 입력할 때는 형변환이 필수이다.\n",
        "a = input('첫 번째 실수를 입력하세요>>>')\n",
        "b = input('두 번째 실수를 입력하세요>>>')\n",
        "print(f'{a}와 {b}의 합은 {a+b} 입니다.')"
      ],
      "metadata": {
        "colab": {
          "base_uri": "https://localhost:8080/"
        },
        "id": "ACE-oN3T2QDj",
        "outputId": "1e2357b4-346f-4226-8517-e36f2c29e82d"
      },
      "execution_count": 8,
      "outputs": [
        {
          "output_type": "stream",
          "name": "stdout",
          "text": [
            "첫 번째 실수를 입력하세요>>>1\n",
            "두 번째 실수를 입력하세요>>>2\n",
            "1와 2의 합은 12 입니다.\n"
          ]
        }
      ]
    },
    {
      "cell_type": "code",
      "source": [
        "# 2번\n",
        "a = int(input('1~12 사이의 월을 입력하세요>>>'))\n",
        "b = {1:31, 2:28, 3:31, 4:30, 5:31, 6:30, 7:31, 8:31, 9:30, 10:31, 11:30, 12:31}\n",
        "print(f'{a}월은 {b[a]}까지 있습니다')"
      ],
      "metadata": {
        "colab": {
          "base_uri": "https://localhost:8080/"
        },
        "id": "lCZ7ND6f2fAS",
        "outputId": "1e54d410-8e74-4d98-80fb-0e58a6722c1d"
      },
      "execution_count": 11,
      "outputs": [
        {
          "output_type": "stream",
          "name": "stdout",
          "text": [
            "1~12 사이의 월을 입력하세요>>>2\n",
            "2월은 28까지 있습니다\n"
          ]
        }
      ]
    },
    {
      "cell_type": "code",
      "source": [
        "# 2번\n",
        "\n",
        "month = (31, 28, 31, 30, 31, 30, 31, 31, 30, 31, 30, 31)\n",
        "\n",
        "d = int(input('1~12 사이의 월을 입력하세요>>>'))\n",
        "\n",
        "print(f'{d}월은 {month[d-1]}일까지 있습니다')"
      ],
      "metadata": {
        "colab": {
          "base_uri": "https://localhost:8080/"
        },
        "id": "tqphYGJ-3jys",
        "outputId": "972d48dd-91c3-483d-b4fa-41e97a45b1ea"
      },
      "execution_count": 28,
      "outputs": [
        {
          "output_type": "stream",
          "name": "stdout",
          "text": [
            "1~12 사이의 월을 입력하세요>>>2\n",
            "2월은 28일까지 있습니다\n"
          ]
        }
      ]
    },
    {
      "cell_type": "code",
      "source": [
        "#3번\n",
        "english_dict = {\n",
        "    'flower':'꽃',\n",
        "    'fly':'날다',\n",
        "    'floor':'바닥'\n",
        "}\n",
        "\n",
        "a = input('영어 단어를 입력하세요>>>')\n",
        "print(f'{a}:{english_dict[a]}')"
      ],
      "metadata": {
        "colab": {
          "base_uri": "https://localhost:8080/"
        },
        "id": "Q-_6ek_W4VRF",
        "outputId": "0d13dd68-02c8-4c57-f87f-226438302d44"
      },
      "execution_count": 21,
      "outputs": [
        {
          "output_type": "stream",
          "name": "stdout",
          "text": [
            "영어 단어를 입력하세요>>>flower\n",
            "flower:꽃\n"
          ]
        }
      ]
    },
    {
      "cell_type": "code",
      "source": [
        "# 4번은 혼자 풀어보기"
      ],
      "metadata": {
        "id": "4eyc0oZX9kND"
      },
      "execution_count": null,
      "outputs": []
    },
    {
      "cell_type": "code",
      "source": [
        "#연산자와 우선순위(page 70)\n",
        "\n",
        "# 복합 대입 연산자(page 74)\n",
        "a = 1\n",
        "print(a)\n",
        "a = a + 1   # a +=1 #둘 다 자기 자신에 1을 증가함을 의미 #java 에서는  a++도 같은 의미(파이썬은 a++은 미사용)\n",
        "print(a)\n",
        "a += 1  \n",
        "print(a)\n",
        "a = a - 1   #자기 자신에 1을 감소함을 의미\n",
        "print(a)\n",
        "a -= 1   #자기 자신에 1을 감소함을 의미\n",
        "print(a)"
      ],
      "metadata": {
        "colab": {
          "base_uri": "https://localhost:8080/"
        },
        "id": "7mRYpECe9r4m",
        "outputId": "6113af03-3578-434c-a827-c2a2eee0296f"
      },
      "execution_count": 31,
      "outputs": [
        {
          "output_type": "stream",
          "name": "stdout",
          "text": [
            "1\n",
            "2\n",
            "3\n",
            "2\n",
            "1\n"
          ]
        }
      ]
    },
    {
      "cell_type": "code",
      "source": [
        "# 예제(파이썬은 값을 교환하는게 가능하다)\n",
        "a,b = 10, 20\n",
        "print('a= %d, b = %d' %(a,b))\n",
        "\n",
        "a,b = b, a\n",
        "print('a= %d, b = %d' %(a,b))"
      ],
      "metadata": {
        "colab": {
          "base_uri": "https://localhost:8080/"
        },
        "id": "w_VDmzuG_8qT",
        "outputId": "c608dd1a-ad2b-446a-b9d3-d82cc75bf02f"
      },
      "execution_count": 33,
      "outputs": [
        {
          "output_type": "stream",
          "name": "stdout",
          "text": [
            "a= 10, b = 20\n",
            "a= 20, b = 10\n"
          ]
        }
      ]
    },
    {
      "cell_type": "code",
      "source": [
        "# 예제_번외\n",
        "# 다른 언어에서 값을 바꾸고 싶다면(다른 언어는 값을 교환하는게 어렵다)\n",
        "\n",
        "a = 10\n",
        "b = 20\n",
        "\n",
        "t = a\n",
        "a = b\n",
        "b = t\n",
        "print('a=%d, b=%d' % (a,b)) "
      ],
      "metadata": {
        "colab": {
          "base_uri": "https://localhost:8080/"
        },
        "id": "hhB_4ReqAapj",
        "outputId": "cea046ab-20ad-471a-86bc-5f73584b54d9"
      },
      "execution_count": 35,
      "outputs": [
        {
          "output_type": "stream",
          "name": "stdout",
          "text": [
            "a=20, b=10\n"
          ]
        }
      ]
    },
    {
      "cell_type": "code",
      "source": [
        "#기본 예제는 숙제"
      ],
      "metadata": {
        "id": "G5khIdOGBGca"
      },
      "execution_count": null,
      "outputs": []
    },
    {
      "cell_type": "code",
      "source": [
        "1==1"
      ],
      "metadata": {
        "colab": {
          "base_uri": "https://localhost:8080/"
        },
        "id": "PEfrXM-9BJCs",
        "outputId": "7b2e1f7d-a778-4b13-c359-f0a805c3a6b3"
      },
      "execution_count": 36,
      "outputs": [
        {
          "output_type": "execute_result",
          "data": {
            "text/plain": [
              "True"
            ]
          },
          "metadata": {},
          "execution_count": 36
        }
      ]
    },
    {
      "cell_type": "code",
      "source": [
        "1!=1 #사실 같이않다의 세계 표준은 <>, 파이썬만 != 사용"
      ],
      "metadata": {
        "colab": {
          "base_uri": "https://localhost:8080/"
        },
        "id": "S3NhnrJCBNvZ",
        "outputId": "8122315d-816d-41fd-9861-2aa8b7a68761"
      },
      "execution_count": 37,
      "outputs": [
        {
          "output_type": "execute_result",
          "data": {
            "text/plain": [
              "False"
            ]
          },
          "metadata": {},
          "execution_count": 37
        }
      ]
    },
    {
      "cell_type": "code",
      "source": [
        "# 시퀀스 연산자 : 순서가 있는 구조 시퀀스(리스트, 튜플, 문자열, range)에서 사용된다.\n",
        "\n",
        "[1,3,5] + [2,4,6]"
      ],
      "metadata": {
        "colab": {
          "base_uri": "https://localhost:8080/"
        },
        "id": "m4PCwGJKB4Hn",
        "outputId": "79f6092a-c0a8-4903-be76-86ec1814ff5a"
      },
      "execution_count": 39,
      "outputs": [
        {
          "output_type": "execute_result",
          "data": {
            "text/plain": [
              "[1, 3, 5, 2, 4, 6]"
            ]
          },
          "metadata": {},
          "execution_count": 39
        }
      ]
    },
    {
      "cell_type": "code",
      "source": [
        "'hello' + ' '+'python'"
      ],
      "metadata": {
        "colab": {
          "base_uri": "https://localhost:8080/",
          "height": 35
        },
        "id": "upWPuurvCDz8",
        "outputId": "74361698-a0fd-4d20-ac3f-6844fe83c236"
      },
      "execution_count": 43,
      "outputs": [
        {
          "output_type": "execute_result",
          "data": {
            "application/vnd.google.colaboratory.intrinsic+json": {
              "type": "string"
            },
            "text/plain": [
              "'hello python'"
            ]
          },
          "metadata": {},
          "execution_count": 43
        }
      ]
    },
    {
      "cell_type": "code",
      "source": [
        "[1,3,5]*2"
      ],
      "metadata": {
        "colab": {
          "base_uri": "https://localhost:8080/"
        },
        "id": "5b0bzNdgCUJ7",
        "outputId": "e534b8b6-e355-4b67-f02f-972c672143d2"
      },
      "execution_count": 44,
      "outputs": [
        {
          "output_type": "execute_result",
          "data": {
            "text/plain": [
              "[1, 3, 5, 1, 3, 5]"
            ]
          },
          "metadata": {},
          "execution_count": 44
        }
      ]
    },
    {
      "cell_type": "code",
      "source": [
        "'*'*20"
      ],
      "metadata": {
        "colab": {
          "base_uri": "https://localhost:8080/",
          "height": 35
        },
        "id": "cgkdDrkbCd4H",
        "outputId": "29b34b6a-cfc4-465e-a0b3-6e4c07ff2721"
      },
      "execution_count": 47,
      "outputs": [
        {
          "output_type": "execute_result",
          "data": {
            "application/vnd.google.colaboratory.intrinsic+json": {
              "type": "string"
            },
            "text/plain": [
              "'********************'"
            ]
          },
          "metadata": {},
          "execution_count": 47
        }
      ]
    },
    {
      "cell_type": "code",
      "source": [
        "'-'*50"
      ],
      "metadata": {
        "colab": {
          "base_uri": "https://localhost:8080/",
          "height": 35
        },
        "id": "WNSeky5dCkxg",
        "outputId": "57546c0d-cd9b-43db-c0e1-86f497050766"
      },
      "execution_count": 48,
      "outputs": [
        {
          "output_type": "execute_result",
          "data": {
            "application/vnd.google.colaboratory.intrinsic+json": {
              "type": "string"
            },
            "text/plain": [
              "'--------------------------------------------------'"
            ]
          },
          "metadata": {},
          "execution_count": 48
        }
      ]
    },
    {
      "cell_type": "code",
      "source": [
        "# 멤버쉽 연산자\n",
        "5 in [1,2,3,4,5]"
      ],
      "metadata": {
        "colab": {
          "base_uri": "https://localhost:8080/"
        },
        "id": "fQddJ3kfDDxE",
        "outputId": "6a4f2dc2-97e0-43e5-ffa6-862e049274c5"
      },
      "execution_count": 49,
      "outputs": [
        {
          "output_type": "execute_result",
          "data": {
            "text/plain": [
              "True"
            ]
          },
          "metadata": {},
          "execution_count": 49
        }
      ]
    },
    {
      "cell_type": "code",
      "source": [
        "5 not in [1,2,3,4,5]"
      ],
      "metadata": {
        "colab": {
          "base_uri": "https://localhost:8080/"
        },
        "id": "XLvoqL0EDPOq",
        "outputId": "8b67f873-f2be-4667-f50a-7b053ee17e5e"
      },
      "execution_count": 50,
      "outputs": [
        {
          "output_type": "execute_result",
          "data": {
            "text/plain": [
              "False"
            ]
          },
          "metadata": {},
          "execution_count": 50
        }
      ]
    },
    {
      "cell_type": "code",
      "source": [
        "'a' in 'apple'"
      ],
      "metadata": {
        "colab": {
          "base_uri": "https://localhost:8080/"
        },
        "id": "Y_956MtFDYDE",
        "outputId": "0714460e-c2ef-4075-8f3d-c2c14d423b62"
      },
      "execution_count": 51,
      "outputs": [
        {
          "output_type": "execute_result",
          "data": {
            "text/plain": [
              "True"
            ]
          },
          "metadata": {},
          "execution_count": 51
        }
      ]
    },
    {
      "cell_type": "code",
      "source": [
        "'a' in {'a':'apple', 'b':'banana'}  #unordered 한 딕셔너리에서도 사용 가능해서 유용"
      ],
      "metadata": {
        "colab": {
          "base_uri": "https://localhost:8080/"
        },
        "id": "Ft526NRvDfEn",
        "outputId": "b4a686b4-ed37-4de1-fe07-d91eb7573172"
      },
      "execution_count": 52,
      "outputs": [
        {
          "output_type": "execute_result",
          "data": {
            "text/plain": [
              "True"
            ]
          },
          "metadata": {},
          "execution_count": 52
        }
      ]
    },
    {
      "cell_type": "code",
      "source": [
        "# 응용 예제(page 85)\n",
        "\n",
        "#1번\n",
        "no = input('10~99 사이의 정수를 입력하세요>>>')\n",
        "print(f'십의 자리 : {no[0]}')\n",
        "print(f'일의 자리:  {no[1]}')"
      ],
      "metadata": {
        "colab": {
          "base_uri": "https://localhost:8080/"
        },
        "id": "myK7uwBPEBDv",
        "outputId": "426c78b9-8690-4116-8afc-cf5ba5b04cfc"
      },
      "execution_count": 59,
      "outputs": [
        {
          "output_type": "stream",
          "name": "stdout",
          "text": [
            "10~99 사이의 정수를 입력하세요>>>45\n",
            "십의 자리 : 4\n",
            "일의 자리:  5\n"
          ]
        }
      ]
    },
    {
      "cell_type": "code",
      "source": [
        "no = int(input('10~99 사이의 정수를 입력하세요>>>'))\n",
        "print(f'십의 자리 : {no//10}')\n",
        "print(f'일의 자리:  {no%10}')"
      ],
      "metadata": {
        "colab": {
          "base_uri": "https://localhost:8080/"
        },
        "id": "FJ4ygyNKFPdQ",
        "outputId": "f95f05c0-0c48-40ce-ad0e-58d4f15df2f3"
      },
      "execution_count": 61,
      "outputs": [
        {
          "output_type": "stream",
          "name": "stdout",
          "text": [
            "10~99 사이의 정수를 입력하세요>>>45\n",
            "십의 자리 : 4\n",
            "일의 자리:  5\n"
          ]
        }
      ]
    },
    {
      "cell_type": "code",
      "source": [
        "#2번\n",
        "\n",
        "# cho = int(input('초를 입력하세요>>>'))\n",
        "# print(f'변환 결과는 {sec//60**2}시간 {sec//60}분 {sec%60}입니다')\n",
        "\n",
        "cho = 3690\n",
        "# 1시간 = 60분 = 1 * 60 * 60 초 = 3600 초\n",
        "hour = 3690 // 3600           #1시간\n",
        "minute = 3690 % 3600  // 60   #1분\n",
        "second = cho % 60\n",
        "print(hour)\n",
        "print(minute)\n",
        "print(second)"
      ],
      "metadata": {
        "colab": {
          "base_uri": "https://localhost:8080/"
        },
        "id": "mr0xxucWF8KI",
        "outputId": "b6d04dea-55ae-4404-b6b9-d732f9789414"
      },
      "execution_count": 83,
      "outputs": [
        {
          "output_type": "stream",
          "name": "stdout",
          "text": [
            "1\n",
            "1\n",
            "30\n"
          ]
        }
      ]
    },
    {
      "cell_type": "code",
      "source": [
        "cho = int(input('초를 입력하세요>>>'))\n",
        "print(f'변환 결과는 {cho//3600}시간 {cho%3600//60}분 {cho%60}초 입니다')"
      ],
      "metadata": {
        "colab": {
          "base_uri": "https://localhost:8080/"
        },
        "id": "DN5-vvMGLqgM",
        "outputId": "782edd05-d8a1-4386-b584-7092a89ffd7f"
      },
      "execution_count": 85,
      "outputs": [
        {
          "output_type": "stream",
          "name": "stdout",
          "text": [
            "초를 입력하세요>>>3690\n",
            "변환 결과는 1시간 1분 30초 입니다\n"
          ]
        }
      ]
    },
    {
      "cell_type": "code",
      "source": [
        "#3번\n",
        "\n",
        "no = int(input('4자리 사원번호를 입력하세요>>>'))\n",
        "\n",
        "no_1 = no % 10\n",
        "if no_1 >= 5:\n",
        "  print('근무시간은 오전입니다')\n",
        "else:\n",
        "  print('근무시간은 오후입니다')"
      ],
      "metadata": {
        "colab": {
          "base_uri": "https://localhost:8080/"
        },
        "id": "ZQrv-McdL4vc",
        "outputId": "0efadfd9-fcf3-4d2d-90b5-b3ac10b43b9b"
      },
      "execution_count": 86,
      "outputs": [
        {
          "output_type": "stream",
          "name": "stdout",
          "text": [
            "4자리 사원번호를 입력하세요>>>1255\n",
            "근무시간은 오전입니다\n"
          ]
        }
      ]
    },
    {
      "cell_type": "code",
      "source": [
        "#조건문 IF (page 90)\n",
        "#조건문은 특정 조건을 만족하는지의 여부에 따라 실행되는 코드가 달라져야 할때 사용\n",
        "\n",
        "a = 0\n",
        "if a > 0:\n",
        "  print('양수')   #조건에 맞지 않으면 실행 되지 않는다."
      ],
      "metadata": {
        "id": "u4uw2pbFNolS"
      },
      "execution_count": 88,
      "outputs": []
    }
  ]
}