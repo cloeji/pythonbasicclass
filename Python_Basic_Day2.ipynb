{
  "nbformat": 4,
  "nbformat_minor": 0,
  "metadata": {
    "colab": {
      "name": "Python Basic Day2.ipynb",
      "provenance": [],
      "authorship_tag": "ABX9TyPeaZIMrAaiVXKmOdYh42Yf",
      "include_colab_link": true
    },
    "kernelspec": {
      "name": "python3",
      "display_name": "Python 3"
    },
    "language_info": {
      "name": "python"
    }
  },
  "cells": [
    {
      "cell_type": "markdown",
      "metadata": {
        "id": "view-in-github",
        "colab_type": "text"
      },
      "source": [
        "<a href=\"https://colab.research.google.com/github/cloeji/pythonbasicclass/blob/main/Python_Basic_Day2.ipynb\" target=\"_parent\"><img src=\"https://colab.research.google.com/assets/colab-badge.svg\" alt=\"Open In Colab\"/></a>"
      ]
    },
    {
      "cell_type": "code",
      "execution_count": null,
      "metadata": {
        "id": "yRJsDNoR-0ER"
      },
      "outputs": [],
      "source": [
        "# 3 기본 자료형 (page 33)\n",
        "\n",
        "int 정수   1,2,3,4\n",
        "float 실수 3.14, 2.18\n",
        "bool 논리 True,  False\n",
        "str 문자열 '홍길동', '슈가'  (스트링이라고 읽는다)\n",
        "\n",
        "\n",
        "int a = 10;  형을 선언해야하는 자바  파이썬은  int  인지  float인지 선언할 필요 없다\n",
        "a=10"
      ]
    },
    {
      "cell_type": "code",
      "source": [
        "#1. 정수 int\n",
        "\n",
        " #(실수를 정수로 감싼다면)\n",
        "int(1.9)\n"
      ],
      "metadata": {
        "colab": {
          "base_uri": "https://localhost:8080/"
        },
        "id": "JZaufkNTANEQ",
        "outputId": "0cc31641-b33d-4956-fa35-c1cbe968dd6d"
      },
      "execution_count": 1,
      "outputs": [
        {
          "output_type": "execute_result",
          "data": {
            "text/plain": [
              "1"
            ]
          },
          "metadata": {},
          "execution_count": 1
        }
      ]
    },
    {
      "cell_type": "code",
      "source": [
        "int(True)\n",
        "\n",
        "# true는 숫자로 1 false 는 숫자로 0"
      ],
      "metadata": {
        "colab": {
          "base_uri": "https://localhost:8080/"
        },
        "id": "xMmwZeMKBDXX",
        "outputId": "391e36e4-5009-4f2a-8df9-5cc3ae916d5a"
      },
      "execution_count": 2,
      "outputs": [
        {
          "output_type": "execute_result",
          "data": {
            "text/plain": [
              "1"
            ]
          },
          "metadata": {},
          "execution_count": 2
        }
      ]
    },
    {
      "cell_type": "code",
      "source": [
        "int(False)"
      ],
      "metadata": {
        "colab": {
          "base_uri": "https://localhost:8080/"
        },
        "id": "OaI0ptOmBPr-",
        "outputId": "464e253c-63e8-4fce-80cc-139ba01a89c8"
      },
      "execution_count": 3,
      "outputs": [
        {
          "output_type": "execute_result",
          "data": {
            "text/plain": [
              "0"
            ]
          },
          "metadata": {},
          "execution_count": 3
        }
      ]
    },
    {
      "cell_type": "code",
      "source": [
        "int('100')  \n",
        "int(\"200\")\n",
        "#따옴표가 붙어있으면 숫자처럼 보이지만 문자다.(문자는 계산 불가) ->  int 로 감싸면 숫자가 된다(계산이 가능해진다)\n",
        "# int () 괄호안에 숫자처럼 보이는 문자를 넣어주면 진짜 숫자로 변환된다."
      ],
      "metadata": {
        "colab": {
          "base_uri": "https://localhost:8080/"
        },
        "id": "SIhamvOzDbzI",
        "outputId": "1e937572-4c67-4b9d-df83-e19ece070797"
      },
      "execution_count": 7,
      "outputs": [
        {
          "output_type": "execute_result",
          "data": {
            "text/plain": [
              "200"
            ]
          },
          "metadata": {},
          "execution_count": 7
        }
      ]
    },
    {
      "cell_type": "code",
      "source": [
        "# 2. 실수 float\n",
        "\n",
        "float(1)\n",
        "#결국 값은 같지만 형태를 바꿈"
      ],
      "metadata": {
        "colab": {
          "base_uri": "https://localhost:8080/"
        },
        "id": "2fXGns0FD3P3",
        "outputId": "dfcde7fe-aa24-4376-e6dd-8b3adcc98b34"
      },
      "execution_count": 8,
      "outputs": [
        {
          "output_type": "execute_result",
          "data": {
            "text/plain": [
              "1.0"
            ]
          },
          "metadata": {},
          "execution_count": 8
        }
      ]
    },
    {
      "cell_type": "code",
      "source": [
        "float(True)"
      ],
      "metadata": {
        "colab": {
          "base_uri": "https://localhost:8080/"
        },
        "id": "5-jCYofUEnGZ",
        "outputId": "655a47f4-220e-4541-976d-1b9a7cd1d80d"
      },
      "execution_count": 9,
      "outputs": [
        {
          "output_type": "execute_result",
          "data": {
            "text/plain": [
              "1.0"
            ]
          },
          "metadata": {},
          "execution_count": 9
        }
      ]
    },
    {
      "cell_type": "code",
      "source": [
        "float(False)"
      ],
      "metadata": {
        "colab": {
          "base_uri": "https://localhost:8080/"
        },
        "id": "dSkKmZWdEt6b",
        "outputId": "61213d42-b884-4fdb-9632-ae2e4850f79e"
      },
      "execution_count": 10,
      "outputs": [
        {
          "output_type": "execute_result",
          "data": {
            "text/plain": [
              "0.0"
            ]
          },
          "metadata": {},
          "execution_count": 10
        }
      ]
    },
    {
      "cell_type": "code",
      "source": [
        "float('3.14')\n",
        "\n",
        "#문자에서 진짜 실수로 변화->계산이 가능해짐"
      ],
      "metadata": {
        "colab": {
          "base_uri": "https://localhost:8080/"
        },
        "id": "ZIMcXQU4EzGv",
        "outputId": "f49a71c1-e97b-414d-de53-989da1eb242e"
      },
      "execution_count": 11,
      "outputs": [
        {
          "output_type": "execute_result",
          "data": {
            "text/plain": [
              "3.14"
            ]
          },
          "metadata": {},
          "execution_count": 11
        }
      ]
    },
    {
      "cell_type": "code",
      "source": [
        "input('숫자를 입력하세요>>>') #input 은 모든 입력을 문자로만 받는다."
      ],
      "metadata": {
        "colab": {
          "base_uri": "https://localhost:8080/",
          "height": 54
        },
        "id": "UYECZfgTFCfI",
        "outputId": "95672c8e-1467-4901-fc2a-9e8457ec9f75"
      },
      "execution_count": 12,
      "outputs": [
        {
          "name": "stdout",
          "output_type": "stream",
          "text": [
            "숫자를 입력하세요>>>123\n"
          ]
        },
        {
          "output_type": "execute_result",
          "data": {
            "application/vnd.google.colaboratory.intrinsic+json": {
              "type": "string"
            },
            "text/plain": [
              "'123'"
            ]
          },
          "metadata": {},
          "execution_count": 12
        }
      ]
    },
    {
      "cell_type": "code",
      "source": [
        "int(input('숫자를 입력하세요>>>'))"
      ],
      "metadata": {
        "colab": {
          "base_uri": "https://localhost:8080/"
        },
        "id": "er_t6sPkFWkk",
        "outputId": "1ef7f8ee-23c8-4ac7-f503-a11058cde2ef"
      },
      "execution_count": 13,
      "outputs": [
        {
          "name": "stdout",
          "output_type": "stream",
          "text": [
            "숫자를 입력하세요>>>123\n"
          ]
        },
        {
          "output_type": "execute_result",
          "data": {
            "text/plain": [
              "123"
            ]
          },
          "metadata": {},
          "execution_count": 13
        }
      ]
    },
    {
      "cell_type": "code",
      "source": [
        "#논리 bool , boolean    True or False 만 들어갈수 있다\n",
        "\n",
        "bool(0)"
      ],
      "metadata": {
        "colab": {
          "base_uri": "https://localhost:8080/"
        },
        "id": "_rai5IPdF2hZ",
        "outputId": "bc6af44d-3bec-4dc4-c173-67851272abf7"
      },
      "execution_count": 14,
      "outputs": [
        {
          "output_type": "execute_result",
          "data": {
            "text/plain": [
              "False"
            ]
          },
          "metadata": {},
          "execution_count": 14
        }
      ]
    },
    {
      "cell_type": "code",
      "source": [
        "bool(1)"
      ],
      "metadata": {
        "colab": {
          "base_uri": "https://localhost:8080/"
        },
        "id": "vZWdOrNeGKKo",
        "outputId": "8ca87095-829d-482c-f5d0-c73d8252c82f"
      },
      "execution_count": 15,
      "outputs": [
        {
          "output_type": "execute_result",
          "data": {
            "text/plain": [
              "True"
            ]
          },
          "metadata": {},
          "execution_count": 15
        }
      ]
    },
    {
      "cell_type": "code",
      "source": [
        "bool('')"
      ],
      "metadata": {
        "colab": {
          "base_uri": "https://localhost:8080/"
        },
        "id": "XRssYIOuGMjy",
        "outputId": "44379203-08bf-4ce2-e111-25bed4e54085"
      },
      "execution_count": 17,
      "outputs": [
        {
          "output_type": "execute_result",
          "data": {
            "text/plain": [
              "False"
            ]
          },
          "metadata": {},
          "execution_count": 17
        }
      ]
    },
    {
      "cell_type": "code",
      "source": [
        "bool('1')"
      ],
      "metadata": {
        "colab": {
          "base_uri": "https://localhost:8080/"
        },
        "id": "LEN6-bHYGU23",
        "outputId": "90cc1332-2b9d-41f1-f0a0-5ee73895f745"
      },
      "execution_count": 18,
      "outputs": [
        {
          "output_type": "execute_result",
          "data": {
            "text/plain": [
              "True"
            ]
          },
          "metadata": {},
          "execution_count": 18
        }
      ]
    },
    {
      "cell_type": "code",
      "source": [
        "bool([])  #리스트 안에도 아무것도 없으면  false  뭐라도 있으면  true"
      ],
      "metadata": {
        "colab": {
          "base_uri": "https://localhost:8080/"
        },
        "id": "nPo8-h5oGcW7",
        "outputId": "2f4f945d-8892-4614-97fd-fd042e73daf7"
      },
      "execution_count": 19,
      "outputs": [
        {
          "output_type": "execute_result",
          "data": {
            "text/plain": [
              "False"
            ]
          },
          "metadata": {},
          "execution_count": 19
        }
      ]
    },
    {
      "cell_type": "code",
      "source": [
        "bool([1,2,3])"
      ],
      "metadata": {
        "colab": {
          "base_uri": "https://localhost:8080/"
        },
        "id": "xBv0t_QvGj6W",
        "outputId": "44b02d2b-ac2a-4cc6-9bff-2d860b6a8b6c"
      },
      "execution_count": 20,
      "outputs": [
        {
          "output_type": "execute_result",
          "data": {
            "text/plain": [
              "True"
            ]
          },
          "metadata": {},
          "execution_count": 20
        }
      ]
    },
    {
      "cell_type": "code",
      "source": [
        "# 4 문자열   str , string\n",
        "\n",
        "a = '한국'\n",
        "b = \"한국\"    #파이썬에서는 작은 따옴표, 큰 따옴표가 완전히 같은 의미\n",
        "\n",
        "a = '대한\\n민국'   # docstring 에외에도 여러물 문자 표현하는 방법\n",
        "print(a)\n",
        "\n",
        "# 35페이지 하단의  docstring  -> 여러줄 문자에 사용\n",
        "a='''대한\n",
        "민국'''\n",
        "b=\"\"\"대한\n",
        "민국\"\"\"\n",
        "\n",
        "\n",
        "print(a)"
      ],
      "metadata": {
        "colab": {
          "base_uri": "https://localhost:8080/"
        },
        "id": "7nQyzwhyGn2f",
        "outputId": "37236039-6047-4724-82a5-9dcde00312eb"
      },
      "execution_count": 29,
      "outputs": [
        {
          "output_type": "stream",
          "name": "stdout",
          "text": [
            "대한\n",
            "민국\n",
            "대한\n",
            "민국\n"
          ]
        }
      ]
    },
    {
      "cell_type": "code",
      "source": [
        "str(100)\n",
        "# ->숫자를 문자로 만든다"
      ],
      "metadata": {
        "colab": {
          "base_uri": "https://localhost:8080/",
          "height": 35
        },
        "id": "6HTfz39wIBMx",
        "outputId": "9eaeb48b-e5a7-40bd-c357-d20ab664d393"
      },
      "execution_count": 30,
      "outputs": [
        {
          "output_type": "execute_result",
          "data": {
            "application/vnd.google.colaboratory.intrinsic+json": {
              "type": "string"
            },
            "text/plain": [
              "'100'"
            ]
          },
          "metadata": {},
          "execution_count": 30
        }
      ]
    },
    {
      "cell_type": "code",
      "source": [
        " str(True)\n",
        "#  진짜 글자"
      ],
      "metadata": {
        "colab": {
          "base_uri": "https://localhost:8080/",
          "height": 35
        },
        "id": "8avtKwihIJXj",
        "outputId": "6ecf8f53-83d9-40a5-b4b3-b86d3ce5d8da"
      },
      "execution_count": 32,
      "outputs": [
        {
          "output_type": "execute_result",
          "data": {
            "application/vnd.google.colaboratory.intrinsic+json": {
              "type": "string"
            },
            "text/plain": [
              "'True'"
            ]
          },
          "metadata": {},
          "execution_count": 32
        }
      ]
    },
    {
      "cell_type": "code",
      "source": [
        "str(False)"
      ],
      "metadata": {
        "colab": {
          "base_uri": "https://localhost:8080/",
          "height": 35
        },
        "id": "MPZZy33RIOno",
        "outputId": "af1543ef-bcee-4c0e-fb6b-7ea089129c5b"
      },
      "execution_count": 33,
      "outputs": [
        {
          "output_type": "execute_result",
          "data": {
            "application/vnd.google.colaboratory.intrinsic+json": {
              "type": "string"
            },
            "text/plain": [
              "'False'"
            ]
          },
          "metadata": {},
          "execution_count": 33
        }
      ]
    },
    {
      "cell_type": "code",
      "source": [
        "str(3.14)"
      ],
      "metadata": {
        "colab": {
          "base_uri": "https://localhost:8080/",
          "height": 35
        },
        "id": "W2dXE8-FITKp",
        "outputId": "577fb4e2-9c76-440a-b63d-6d79abfdce56"
      },
      "execution_count": 34,
      "outputs": [
        {
          "output_type": "execute_result",
          "data": {
            "application/vnd.google.colaboratory.intrinsic+json": {
              "type": "string"
            },
            "text/plain": [
              "'3.14'"
            ]
          },
          "metadata": {},
          "execution_count": 34
        }
      ]
    },
    {
      "cell_type": "code",
      "source": [
        "# 문자열 인덱싱 (Indexing)\n",
        "# 인덱싱은 문자열을 구성하는 모든 문자에 부여한 고유의 번호이다. \n",
        "\n",
        "s = 'hello'\n",
        "print(s[0])  \n",
        "#인덱스의 시작은 0이다(컴퓨터는 0부터 시작한다(R과 SQL은 1에서 시작, 그러나 대부분의 언어는 0에서 시작한다))\n",
        "# h e l l o\n",
        "# 0 1 2 3 4  각 문자의 인덱스 번호\n",
        "\n",
        "#인덱싱할때의 대괄호랑 리스트의 대괄호는 사용법이 다른거임"
      ],
      "metadata": {
        "colab": {
          "base_uri": "https://localhost:8080/"
        },
        "id": "sXwhe-sFIg3l",
        "outputId": "201eea8a-9ea9-4a94-dba7-55d62c77063f"
      },
      "execution_count": 36,
      "outputs": [
        {
          "output_type": "stream",
          "name": "stdout",
          "text": [
            "h\n"
          ]
        }
      ]
    },
    {
      "cell_type": "code",
      "source": [
        "#  h  e  l  l  o\n",
        "          # -1(마지막 글자가 -1로도 지정이 된다 )\n",
        "# -5 -4 -3 -2 -1        \n",
        "\n",
        "s='hello'\n",
        "print(s[-1])"
      ],
      "metadata": {
        "colab": {
          "base_uri": "https://localhost:8080/"
        },
        "id": "Qr6HRMCTN5IA",
        "outputId": "339952b7-93d7-4e44-eb14-e1c43e5e1ab8"
      },
      "execution_count": 37,
      "outputs": [
        {
          "output_type": "stream",
          "name": "stdout",
          "text": [
            "o\n"
          ]
        }
      ]
    },
    {
      "cell_type": "code",
      "source": [
        "# 문자열 스라이싱 slicing\n",
        "# 문자열의 인덱스를 사용하여 한 문자 이상으로 구성된 단어나 문장을 추출\n",
        "\n",
        "s = 'banana'\n",
        "s[0:3]   #[start:stop] # stop은 까지가 아닌 미만으로 계산한다"
      ],
      "metadata": {
        "colab": {
          "base_uri": "https://localhost:8080/",
          "height": 35
        },
        "id": "RbrMVnbHOlBI",
        "outputId": "8c74943e-e78f-415d-e1a7-7404ccab1fd2"
      },
      "execution_count": 39,
      "outputs": [
        {
          "output_type": "execute_result",
          "data": {
            "application/vnd.google.colaboratory.intrinsic+json": {
              "type": "string"
            },
            "text/plain": [
              "'ban'"
            ]
          },
          "metadata": {},
          "execution_count": 39
        }
      ]
    },
    {
      "cell_type": "code",
      "source": [
        "addr = '서울시 강남구 역삼동 1번지'\n",
        "print(addr[4:7])  #띄어쓰기도 인덱스 넘버에 포함, "
      ],
      "metadata": {
        "colab": {
          "base_uri": "https://localhost:8080/"
        },
        "id": "UrME7AAjPRFK",
        "outputId": "acf599ae-0545-487c-c950-990a15e34715"
      },
      "execution_count": 40,
      "outputs": [
        {
          "output_type": "stream",
          "name": "stdout",
          "text": [
            "강남구\n"
          ]
        }
      ]
    },
    {
      "cell_type": "code",
      "source": [
        "#04 컬렉션 Collection (39페이지)\n",
        "# '여러 값을 하나의 이름으로 묶어서 관리하는 자료형'\n",
        "# 리스트list 튜플tuple 딕셔너리dict 셋set (총 4가지)\n"
      ],
      "metadata": {
        "id": "zfZeU0fkQP3G"
      },
      "execution_count": null,
      "outputs": []
    },
    {
      "cell_type": "code",
      "source": [
        "# 리스트 list\n",
        "# 리스트는 여러 값을 저장할 때 가장 많이 사용되는 자료형이다.\n",
        "# 특징\n",
        "# 1. 대괄호로 생성한다. []\n",
        "# 2. 여러가지 자료형을 하나의 리스트로 생성할 수 있다(과연...장점일까?)\n",
        "# 3. mutable 한 속성을 갖는다.(수정, 삭제가 가능하다)   <>  튜플은 수정이 불가하여 가급적 리스트를 사용하는 것이 낫다\n",
        "# 4. indexing, slicing 이 가능하다. <> 튜플도 가능함!, 셋은 불가, 딕셔너리는 수정이 가능하지만 인덱싱 슬라이싱이 불가"
      ],
      "metadata": {
        "id": "RjL8mbxGRFEO"
      },
      "execution_count": 42,
      "outputs": []
    },
    {
      "cell_type": "code",
      "source": [
        "list1 = [1,2,3,4]\n",
        "list2 = [1,2,3,'대', '한', True]   #숫자와 문자와 bool을 섞어서 만들 수 있다(다른 언어는 섞지 못하게 한다)->그러나 섞어쓰면 에러날 확률이 높다"
      ],
      "metadata": {
        "id": "yIYeKZfjRUxN"
      },
      "execution_count": 41,
      "outputs": []
    },
    {
      "cell_type": "code",
      "source": [
        "li = [100, 3.14, 'hello']\n",
        "\n",
        "li[2]  #li라는 리스트에서 2번째 (1번째는 3.14  0번째 100)"
      ],
      "metadata": {
        "colab": {
          "base_uri": "https://localhost:8080/",
          "height": 35
        },
        "id": "sKYRs5KIStdw",
        "outputId": "fec8fef9-c74b-4bd9-d1a5-f99b9e15668d"
      },
      "execution_count": 45,
      "outputs": [
        {
          "output_type": "execute_result",
          "data": {
            "application/vnd.google.colaboratory.intrinsic+json": {
              "type": "string"
            },
            "text/plain": [
              "'hello'"
            ]
          },
          "metadata": {},
          "execution_count": 45
        }
      ]
    },
    {
      "cell_type": "code",
      "source": [
        "li = [100, 3.14, 'hello']\n",
        "li[0:]   #[start: stop(미만)] ->생략하면 맨 처음 혹인 맨 끝"
      ],
      "metadata": {
        "colab": {
          "base_uri": "https://localhost:8080/"
        },
        "id": "hBjHDzLGUcPZ",
        "outputId": "f2ce988d-9359-4ffb-df3a-55a76e6c2109"
      },
      "execution_count": 50,
      "outputs": [
        {
          "output_type": "execute_result",
          "data": {
            "text/plain": [
              "[100, 3.14, 'hello']"
            ]
          },
          "metadata": {},
          "execution_count": 50
        }
      ]
    },
    {
      "cell_type": "code",
      "source": [
        "#append()- 리스트에 데이터를 추가\n",
        "#*한번 만들어도 수정이 가능하다(append)\n",
        "scores = [50,40,30]\n",
        "scores.append(100) \n",
        "scores\n",
        "# 여기서의 소괄호는 값을 추가할때 사용하는 ()  \n",
        "\n",
        "#append 는 매우매우 중요\n",
        "\n",
        "\n",
        "# scores2 = (50,40,30) #튜플을 만들때는 () 소괄호를 사용한다  ->  소괄호의 사용법이 다름/딕셔너리와 셋은 중괄호 사용"
      ],
      "metadata": {
        "colab": {
          "base_uri": "https://localhost:8080/"
        },
        "id": "ndSg4tfPVaXA",
        "outputId": "e42a0c90-d6c9-4252-ed8d-3ae37585830d"
      },
      "execution_count": 59,
      "outputs": [
        {
          "output_type": "execute_result",
          "data": {
            "text/plain": [
              "[50, 40, 30, 100]"
            ]
          },
          "metadata": {},
          "execution_count": 59
        }
      ]
    },
    {
      "cell_type": "code",
      "source": [
        "# insert()- 리스트에 데이터를 추가\n",
        "scores.insert(0,90)  #특정 위치에 데이터를 추가\n",
        "scores"
      ],
      "metadata": {
        "colab": {
          "base_uri": "https://localhost:8080/"
        },
        "id": "P2KYP7mYXDHr",
        "outputId": "083775e3-e176-4202-b216-62580fefed43"
      },
      "execution_count": 60,
      "outputs": [
        {
          "output_type": "execute_result",
          "data": {
            "text/plain": [
              "[90, 50, 40, 30, 100]"
            ]
          },
          "metadata": {},
          "execution_count": 60
        }
      ]
    },
    {
      "cell_type": "code",
      "source": [
        "# pop()- 리스트에서 데이터를 삭제\n",
        "scores = [50,40,30]\n",
        "scores.pop()  #pop() 괄호 안 생략하면 마지막 값을 삭제\n",
        "scores"
      ],
      "metadata": {
        "colab": {
          "base_uri": "https://localhost:8080/"
        },
        "id": "cQJFhkUrXX15",
        "outputId": "ecc5b70c-2296-41d2-d78e-461f995ed7f9"
      },
      "execution_count": 62,
      "outputs": [
        {
          "output_type": "execute_result",
          "data": {
            "text/plain": [
              "[50, 40]"
            ]
          },
          "metadata": {},
          "execution_count": 62
        }
      ]
    },
    {
      "cell_type": "code",
      "source": [
        "scores.pop(0)\n",
        "scores"
      ],
      "metadata": {
        "colab": {
          "base_uri": "https://localhost:8080/"
        },
        "id": "oN-IVCVPaQzM",
        "outputId": "7ac47895-c9c0-45f9-aff1-286bad947ce0"
      },
      "execution_count": 63,
      "outputs": [
        {
          "output_type": "execute_result",
          "data": {
            "text/plain": [
              "[40]"
            ]
          },
          "metadata": {},
          "execution_count": 63
        }
      ]
    },
    {
      "cell_type": "code",
      "source": [
        "# 튜플 tuple\n",
        "# 저장된 값을 변경할 수 없는 리스트\n",
        "\n",
        "# 특징\n",
        "# 1. 소괄호로 생성한다. ()   튜플은 괄호 생략 가능하다\n",
        "# 2. 여러가지 자료형을 하나의 튜플로 생성할 수 있다(과연...장점일까?)\n",
        "# 3. immutable 한 속성을 갖는다.(수정, 삭제가 불가능하다)   \n",
        "# 4. indexing, slicing 이 가능하다. \n",
        "# 5. 1개의 원소를 갖는 튜풀을 생성할 때는 , 쉼표를 붙인다.  ->1개짜리를 쉼표 없이 하면 그냥 int로 인식! 튜플이 아니다\n",
        "\n",
        "li=[1]\n",
        "print(li)\n",
        "print(type(li))  #얘의 자료형이 뭔지 알려달라는 수식"
      ],
      "metadata": {
        "colab": {
          "base_uri": "https://localhost:8080/"
        },
        "id": "Pu0EWiNiavRs",
        "outputId": "0df8fd05-e085-4802-b145-b462363be452"
      },
      "execution_count": 65,
      "outputs": [
        {
          "output_type": "stream",
          "name": "stdout",
          "text": [
            "[1]\n",
            "<class 'list'>\n"
          ]
        }
      ]
    },
    {
      "cell_type": "code",
      "source": [
        "tu = (1)\n",
        "print(tu)\n",
        "print(type(tu))"
      ],
      "metadata": {
        "colab": {
          "base_uri": "https://localhost:8080/"
        },
        "id": "WhB-AluocR97",
        "outputId": "983e88ed-ef7a-4c68-f5e1-6460fdd11070"
      },
      "execution_count": 68,
      "outputs": [
        {
          "output_type": "stream",
          "name": "stdout",
          "text": [
            "1\n",
            "<class 'int'>\n"
          ]
        }
      ]
    },
    {
      "cell_type": "code",
      "source": [
        "tu = (1,)\n",
        "print(tu)\n",
        "print(type(tu))"
      ],
      "metadata": {
        "colab": {
          "base_uri": "https://localhost:8080/"
        },
        "id": "Yeq1doyPcet9",
        "outputId": "e09a06fe-3dab-4cff-a8f9-77582ca6b570"
      },
      "execution_count": 69,
      "outputs": [
        {
          "output_type": "stream",
          "name": "stdout",
          "text": [
            "(1,)\n",
            "<class 'tuple'>\n"
          ]
        }
      ]
    },
    {
      "cell_type": "code",
      "source": [
        "tuple = 1,2,3,4,5\n",
        "type(tu)"
      ],
      "metadata": {
        "colab": {
          "base_uri": "https://localhost:8080/"
        },
        "id": "mw_djrKDcvbh",
        "outputId": "bddbab08-50fb-4401-cf0e-f1a27182cec6"
      },
      "execution_count": 79,
      "outputs": [
        {
          "output_type": "execute_result",
          "data": {
            "text/plain": [
              "tuple"
            ]
          },
          "metadata": {},
          "execution_count": 79
        }
      ]
    },
    {
      "cell_type": "code",
      "source": [
        "tu.appent(6)"
      ],
      "metadata": {
        "colab": {
          "base_uri": "https://localhost:8080/",
          "height": 174
        },
        "id": "1ekKGFVSc9ZR",
        "outputId": "2e046c3e-9a58-4525-ea88-54a80d5f9cf9"
      },
      "execution_count": 71,
      "outputs": [
        {
          "output_type": "error",
          "ename": "AttributeError",
          "evalue": "ignored",
          "traceback": [
            "\u001b[0;31m---------------------------------------------------------------------------\u001b[0m",
            "\u001b[0;31mAttributeError\u001b[0m                            Traceback (most recent call last)",
            "\u001b[0;32m<ipython-input-71-64c7c61c42e1>\u001b[0m in \u001b[0;36m<module>\u001b[0;34m()\u001b[0m\n\u001b[0;32m----> 1\u001b[0;31m \u001b[0mtu\u001b[0m\u001b[0;34m.\u001b[0m\u001b[0mappent\u001b[0m\u001b[0;34m(\u001b[0m\u001b[0;36m6\u001b[0m\u001b[0;34m)\u001b[0m\u001b[0;34m\u001b[0m\u001b[0;34m\u001b[0m\u001b[0m\n\u001b[0m",
            "\u001b[0;31mAttributeError\u001b[0m: 'tuple' object has no attribute 'appent'"
          ]
        }
      ]
    },
    {
      "cell_type": "code",
      "source": [
        "tu.pop()"
      ],
      "metadata": {
        "colab": {
          "base_uri": "https://localhost:8080/",
          "height": 174
        },
        "id": "EQAYp2zPdDYh",
        "outputId": "369f198e-4734-4ecf-b6a5-7680a251debe"
      },
      "execution_count": 72,
      "outputs": [
        {
          "output_type": "error",
          "ename": "AttributeError",
          "evalue": "ignored",
          "traceback": [
            "\u001b[0;31m---------------------------------------------------------------------------\u001b[0m",
            "\u001b[0;31mAttributeError\u001b[0m                            Traceback (most recent call last)",
            "\u001b[0;32m<ipython-input-72-e7fa926581ef>\u001b[0m in \u001b[0;36m<module>\u001b[0;34m()\u001b[0m\n\u001b[0;32m----> 1\u001b[0;31m \u001b[0mtu\u001b[0m\u001b[0;34m.\u001b[0m\u001b[0mpop\u001b[0m\u001b[0;34m(\u001b[0m\u001b[0;34m)\u001b[0m\u001b[0;34m\u001b[0m\u001b[0;34m\u001b[0m\u001b[0m\n\u001b[0m",
            "\u001b[0;31mAttributeError\u001b[0m: 'tuple' object has no attribute 'pop'"
          ]
        }
      ]
    },
    {
      "cell_type": "code",
      "source": [
        "tu = 1,2,3,4,5\n",
        "tu[0]"
      ],
      "metadata": {
        "colab": {
          "base_uri": "https://localhost:8080/"
        },
        "id": "8d9WHUtKdV97",
        "outputId": "95867d1a-1a39-4a19-ab0d-b6d097778839"
      },
      "execution_count": 76,
      "outputs": [
        {
          "output_type": "execute_result",
          "data": {
            "text/plain": [
              "1"
            ]
          },
          "metadata": {},
          "execution_count": 76
        }
      ]
    },
    {
      "cell_type": "code",
      "source": [
        "tu[0:3]"
      ],
      "metadata": {
        "colab": {
          "base_uri": "https://localhost:8080/"
        },
        "id": "fodU9KQndlN8",
        "outputId": "586022ea-8a24-428b-ef9c-4fd4ed3ec85b"
      },
      "execution_count": 77,
      "outputs": [
        {
          "output_type": "execute_result",
          "data": {
            "text/plain": [
              "(1, 2, 3)"
            ]
          },
          "metadata": {},
          "execution_count": 77
        }
      ]
    },
    {
      "cell_type": "code",
      "source": [
        "# Set 셋  -  사용 빈도가 가장 낮다 <>가장 높은 것은 list\n",
        "\n",
        "# 특징\n",
        "# 1. 중괄호로 생성한다. {} \n",
        "# 2. 여러가지 자료형을 하나의 셋으로 생성할 수 있다(과연...장점일까?)\n",
        "# 3. mutable 한 속성을 갖는다.(수정, 삭제가 불가능하다)   \n",
        "# 4. indexing, slicing 이 불가능하다. 순서가 없다 (unorder)\n",
        "# 5. 중복된 데이터를 함께 저장할 수 없다. (중복 불가능)\n",
        " \n",
        "set = {1,1,1,2,3}  #중복된 1을 날려보냄\n",
        "set"
      ],
      "metadata": {
        "colab": {
          "base_uri": "https://localhost:8080/"
        },
        "id": "wZuGZky6ePE-",
        "outputId": "e9caf713-fffa-418d-fd03-f8a9c12c8241"
      },
      "execution_count": 82,
      "outputs": [
        {
          "output_type": "execute_result",
          "data": {
            "text/plain": [
              "{1, 2, 3}"
            ]
          },
          "metadata": {},
          "execution_count": 82
        }
      ]
    },
    {
      "cell_type": "code",
      "source": [
        "set.add(4)  #append가 아닌 add 사용\n",
        "set"
      ],
      "metadata": {
        "colab": {
          "base_uri": "https://localhost:8080/"
        },
        "id": "USPR3tu1fqcN",
        "outputId": "0d00975e-4d68-47b0-d697-351fa8b6a5b3"
      },
      "execution_count": 84,
      "outputs": [
        {
          "output_type": "execute_result",
          "data": {
            "text/plain": [
              "{1, 2, 3, 4}"
            ]
          },
          "metadata": {},
          "execution_count": 84
        }
      ]
    },
    {
      "cell_type": "code",
      "source": [
        "set.remove(3)   #pop이 아닌 remove 사용\n",
        "set"
      ],
      "metadata": {
        "colab": {
          "base_uri": "https://localhost:8080/"
        },
        "id": "LMeZyh-Afz5R",
        "outputId": "03f168ae-b176-4700-f153-b7f1f8b930c5"
      },
      "execution_count": 85,
      "outputs": [
        {
          "output_type": "execute_result",
          "data": {
            "text/plain": [
              "{1, 2, 4}"
            ]
          },
          "metadata": {},
          "execution_count": 85
        }
      ]
    },
    {
      "cell_type": "code",
      "source": [
        "# Dict 딕셔너리 키값과 밸류값의 쌍으로 데이터를 저장하는 자료형\n",
        "# 자바에서의 map, JS에서의 json  과 유사한 파이썬의 자료형\n",
        "\n",
        "# 특징\n",
        "# 1. (dict도 셋과 마찬가지로) 중괄호로 생성한다. {}\n",
        "# 2. 여러가지 자료형을 하나의 딕셔너리로 생성할 수 있다(과연...장점일까?)\n",
        "# 3. mutable 한 속성을 갖는다.(수정, 삭제가 불가능하다)   \n",
        "# 4. indexing, slicing 이 불가능하다. 순서가 없다 (unorder)\n",
        "# 5. 키와 밸류로 구성한다.\n",
        "\n",
        "\n",
        "d = {'a':'apple', 'b':'banana'}\n",
        "d['a']  #인덱스 값이 아닌 키값을 넣으면 해당 키값에 대한 밸류값을 뽑아낸다"
      ],
      "metadata": {
        "colab": {
          "base_uri": "https://localhost:8080/",
          "height": 35
        },
        "id": "UyeQl-R2gMM4",
        "outputId": "18f268c9-e959-41d8-e669-491be9bf5bb7"
      },
      "execution_count": 87,
      "outputs": [
        {
          "output_type": "execute_result",
          "data": {
            "application/vnd.google.colaboratory.intrinsic+json": {
              "type": "string"
            },
            "text/plain": [
              "'apple'"
            ]
          },
          "metadata": {},
          "execution_count": 87
        }
      ]
    },
    {
      "cell_type": "code",
      "source": [
        "#추가\n",
        "d['c'] = 'cherry'\n",
        "d   #단 이때 순서는 없어서, a - c - b의 순서로 나올 수도 있다. 아래처럼  a-b-c순서가 나온 것은 우연의 일치"
      ],
      "metadata": {
        "colab": {
          "base_uri": "https://localhost:8080/"
        },
        "id": "3KnkD6G6iNDa",
        "outputId": "ea0300bf-3ac5-4854-adc5-dbcb6753f48d"
      },
      "execution_count": 88,
      "outputs": [
        {
          "output_type": "execute_result",
          "data": {
            "text/plain": [
              "{'a': 'apple', 'b': 'banana', 'c': 'cherry'}"
            ]
          },
          "metadata": {},
          "execution_count": 88
        }
      ]
    },
    {
      "cell_type": "code",
      "source": [
        "#수정\n",
        "d['c'] = '체리'\n",
        "d"
      ],
      "metadata": {
        "colab": {
          "base_uri": "https://localhost:8080/"
        },
        "id": "4v9PUUy1imWH",
        "outputId": "003d51ff-967e-4d94-ccbd-1bab92536392"
      },
      "execution_count": 89,
      "outputs": [
        {
          "output_type": "execute_result",
          "data": {
            "text/plain": [
              "{'a': 'apple', 'b': 'banana', 'c': '체리'}"
            ]
          },
          "metadata": {},
          "execution_count": 89
        }
      ]
    },
    {
      "cell_type": "code",
      "source": [
        "d = {'a': 'apple', 'b': 'banana', 'c': '체리'}\n",
        "d.pop('c')\n",
        "d"
      ],
      "metadata": {
        "colab": {
          "base_uri": "https://localhost:8080/"
        },
        "id": "3CR1S5MijfVu",
        "outputId": "50af37aa-ad28-47b1-b037-637343b6baf7"
      },
      "execution_count": 108,
      "outputs": [
        {
          "output_type": "execute_result",
          "data": {
            "text/plain": [
              "{'a': 'apple', 'b': 'banana'}"
            ]
          },
          "metadata": {},
          "execution_count": 108
        }
      ]
    },
    {
      "cell_type": "code",
      "source": [
        "#  mutable: 리스트 셋 딕셔너리\n",
        "#  immutable: 듀플 (정수 실수 문자열)\n",
        "\n",
        "\n",
        "#mutable\n",
        "me = [1,2,3]\n",
        "id(me)  #실제 데이터가 저장된 메모리 위치"
      ],
      "metadata": {
        "colab": {
          "base_uri": "https://localhost:8080/"
        },
        "id": "roC__P7XjJ9J",
        "outputId": "ef4d9752-e140-4b2e-f650-eff0febb58f6"
      },
      "execution_count": 102,
      "outputs": [
        {
          "output_type": "execute_result",
          "data": {
            "text/plain": [
              "140373999084240"
            ]
          },
          "metadata": {},
          "execution_count": 102
        }
      ]
    },
    {
      "cell_type": "code",
      "source": [
        "me.append(4)\n",
        "id(me) #메모리의 실제 주소가 바뀌지 않았다(이게 mutable 하다)"
      ],
      "metadata": {
        "colab": {
          "base_uri": "https://localhost:8080/"
        },
        "id": "cJdL-EvAjxgp",
        "outputId": "61d6e5de-a17f-4bb3-d418-627bb207dedf"
      },
      "execution_count": 103,
      "outputs": [
        {
          "output_type": "execute_result",
          "data": {
            "text/plain": [
              "140373999084240"
            ]
          },
          "metadata": {},
          "execution_count": 103
        }
      ]
    },
    {
      "cell_type": "code",
      "source": [
        "#immutable\n",
        "me = 10\n",
        "id(me)"
      ],
      "metadata": {
        "colab": {
          "base_uri": "https://localhost:8080/"
        },
        "id": "CbfHhhjNkFr3",
        "outputId": "eaf01fbb-ab70-46c7-fb0c-e4c956ed4cd2"
      },
      "execution_count": 105,
      "outputs": [
        {
          "output_type": "execute_result",
          "data": {
            "text/plain": [
              "93999777782560"
            ]
          },
          "metadata": {},
          "execution_count": 105
        }
      ]
    },
    {
      "cell_type": "code",
      "source": [
        "me +=1   #me = me + 1 (자기 자신을 하나 증가해서 자기가 된다)  \n",
        "id(me)  #메모리의 주소가 바뀐 것을 알수 있다(이게 immutable 하다)"
      ],
      "metadata": {
        "colab": {
          "base_uri": "https://localhost:8080/"
        },
        "id": "tlKEAkXZkYRO",
        "outputId": "d98dba62-88b5-4620-e652-2354a3100e28"
      },
      "execution_count": 109,
      "outputs": [
        {
          "output_type": "execute_result",
          "data": {
            "text/plain": [
              "93999777782592"
            ]
          },
          "metadata": {},
          "execution_count": 109
        }
      ]
    }
  ]
}