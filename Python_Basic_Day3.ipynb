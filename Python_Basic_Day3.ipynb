{
  "nbformat": 4,
  "nbformat_minor": 0,
  "metadata": {
    "colab": {
      "name": "Python_Basic_Day3.ipynb",
      "provenance": [],
      "authorship_tag": "ABX9TyPhv05/rqAv+8zpQfCBJR1+",
      "include_colab_link": true
    },
    "kernelspec": {
      "name": "python3",
      "display_name": "Python 3"
    },
    "language_info": {
      "name": "python"
    }
  },
  "cells": [
    {
      "cell_type": "markdown",
      "metadata": {
        "id": "view-in-github",
        "colab_type": "text"
      },
      "source": [
        "<a href=\"https://colab.research.google.com/github/cloeji/pythonbasicclass/blob/main/Python_Basic_Day3.ipynb\" target=\"_parent\"><img src=\"https://colab.research.google.com/assets/colab-badge.svg\" alt=\"Open In Colab\"/></a>"
      ]
    },
    {
      "cell_type": "code",
      "execution_count": null,
      "metadata": {
        "id": "aPp3Jam1SaNz"
      },
      "outputs": [],
      "source": [
        "#list tuple dict set\n",
        "\n",
        "# list []   indexing/slicing가능  mutable(del,ins(인서트))   원소가 하나여도 쉼표 붙이지 않아도 됨 [1]\n",
        "# tuple ()  indexing/slicing가능  immutable()       원소를 하나로 만들때는 반드시 쉼표 붙여야 한다 (1,)\n",
        "# dict  {}   X(unordered)         mutable(del,ins)                                                 {'key':'value'}\n",
        "# set   {}   x(unordered)         mutable(del,ins)                                                 {1,2,3}"
      ]
    },
    {
      "cell_type": "code",
      "source": [
        "# page049 문제풀이"
      ],
      "metadata": {
        "id": "MnAD-yneVUre"
      },
      "execution_count": null,
      "outputs": []
    },
    {
      "cell_type": "code",
      "source": [
        "# 1번\n",
        "no = '31025'\n",
        "a = no[0]  #인덱싱\n",
        "b = no[1:3]  #슬라이싱\n",
        "c = no[3:]   #슬라이싱\n",
        "print(a,'학년',b,'반',c,'번')  #쉼표로 붙여준다\n",
        "print(f'{a} 학년 {b} 반 {c} 번')  #f스트링"
      ],
      "metadata": {
        "colab": {
          "base_uri": "https://localhost:8080/"
        },
        "id": "VQEnUGIjVfCV",
        "outputId": "851d3eb7-b802-446a-d4ee-cec46c9f57ea"
      },
      "execution_count": 20,
      "outputs": [
        {
          "output_type": "stream",
          "name": "stdout",
          "text": [
            "3 학년 10 반 25 번\n",
            "3 학년 10 반 25 번\n"
          ]
        }
      ]
    },
    {
      "cell_type": "code",
      "source": [
        "# 2qjs\n",
        "\n",
        "no = '서울2가1234'\n",
        "no4 = no[-4:]\n",
        "print(no4)\n",
        "print(no, '의 차량번호 4자리는', no4 ,'입니다.')\n",
        "print(f'{no} 의 차량번호 4자리는 {no4} 입니다.' )"
      ],
      "metadata": {
        "colab": {
          "base_uri": "https://localhost:8080/"
        },
        "id": "8XvRI8a2Yx4d",
        "outputId": "b1b956e3-bc5e-4428-bf77-760ac5c0c2da"
      },
      "execution_count": 34,
      "outputs": [
        {
          "output_type": "stream",
          "name": "stdout",
          "text": [
            "1234\n",
            "서울2가1234 의 차량번호 4자리는 1234 입니다.\n",
            "서울2가1234 의 차량번호 4자리는 1234 입니다.\n"
          ]
        }
      ]
    },
    {
      "cell_type": "code",
      "source": [
        "#3번\n",
        "\n",
        "s = 'maple' #가운데 p출력\n",
        "center = len(s) // 2    #//(슬래쉬 2개)는 나머지를 버리고 몫만 취한다. /(슬래쉬1개)는 몫만 취한다.\n",
        "center2 = len(s) % 2   # % 는 몫은 버리고 나머지만 취한다.(홀수 짝수 배수를 알아낼 수 있다)\n",
        "print(center)\n",
        "print(center2)\n",
        "center0=s[len(s)//2]\n",
        "print(f'{s}의 가운데 글자는 {center0}입니다.')\n",
        "print(s,'의 가운데 글자는', center0,'입니다')"
      ],
      "metadata": {
        "colab": {
          "base_uri": "https://localhost:8080/"
        },
        "id": "xkIKi5Qeatef",
        "outputId": "bd700d4c-ebc5-4f89-98bc-dfc1f88f348f"
      },
      "execution_count": 48,
      "outputs": [
        {
          "output_type": "stream",
          "name": "stdout",
          "text": [
            "2\n",
            "1\n",
            "maple의 가운데 글자는 p입니다.\n",
            "maple 의 가운데 글자는 p 입니다\n"
          ]
        }
      ]
    },
    {
      "cell_type": "code",
      "source": [
        "#4번\n",
        "\n",
        "li2 = [10,20,30,40,50,60,70,80,90,100]\n",
        "print('3번째 요소부터 7번째 요소 =' , li2[2:7])\n",
        "print('3번째 요소부터 7번째 요소 중 2번째 요소 =',li2[2:7][1])"
      ],
      "metadata": {
        "colab": {
          "base_uri": "https://localhost:8080/"
        },
        "id": "tRDeGzi2fYXQ",
        "outputId": "3c51bd1f-261e-4aa0-b427-72817c5b0d8a"
      },
      "execution_count": 63,
      "outputs": [
        {
          "output_type": "stream",
          "name": "stdout",
          "text": [
            "3번째 요소부터 7번째 요소 = [30, 40, 50, 60, 70]\n",
            "3번째 요소부터 7번째 요소 중 2번째 요소 = 40\n"
          ]
        }
      ]
    },
    {
      "cell_type": "code",
      "source": [
        "#5번\n",
        "\n",
        "dict = {'금요일':'탕수육',\n",
        "        '토요일':'유산슬',\n",
        "        '일요일':'팔보채'}\n",
        "print('금요일 :', dict['금요일'])\n",
        "print('토요일 :', dict['토요일'])\n",
        "print('일요일 :', dict['일요일'])"
      ],
      "metadata": {
        "colab": {
          "base_uri": "https://localhost:8080/"
        },
        "id": "GZrK6SKXgpzW",
        "outputId": "77e8a8d9-6503-4718-af06-78bfff9038ca"
      },
      "execution_count": 71,
      "outputs": [
        {
          "output_type": "stream",
          "name": "stdout",
          "text": [
            "금요일 : 탕수육\n",
            "토요일 : 유산슬\n",
            "일요일 : 팔보채\n"
          ]
        }
      ]
    },
    {
      "cell_type": "code",
      "source": [
        "# page 52\n",
        "\n",
        "# \\ 따옴표의 기능을 무력화하고 글자로 표현\n",
        "# \\n 줄바꿈 line feed\n",
        "# \\t 탭     TabError\n",
        "\n",
        "print('Hello \\'World\\'')  #작은 따옴표 앞에 \\를 쓰면 글자화된다\n",
        "print(\"Hello 'World'\")    #작은 따옴표를 에러나지 않고 사용하고 싶으면 바깥의 문자를 큰따옴표를 사용하면 되긴 한다\n",
        "\n",
        "print(\"Hello \\\"World\\\"\")\n",
        "print('Hello \"World\"')\n",
        "\n",
        "print('*\\n**\\n***')   \n",
        "print('Hello\\nWorld')\n",
        "\n",
        "print('이름\\t연락처')\n",
        "print('제시카\\t01-123-4567')\n",
        "print('마틴\\t010-6789-7890')"
      ],
      "metadata": {
        "colab": {
          "base_uri": "https://localhost:8080/"
        },
        "id": "SOb07dc-iOar",
        "outputId": "12c942f6-448f-421b-b728-588070153469"
      },
      "execution_count": 84,
      "outputs": [
        {
          "output_type": "stream",
          "name": "stdout",
          "text": [
            "Hello 'World'\n",
            "Hello 'World'\n",
            "Hello \"World\"\n",
            "Hello \"World\"\n",
            "*\n",
            "**\n",
            "***\n",
            "Hello\n",
            "World\n",
            "이름\t연락처\n",
            "제시카\t01-123-4567\n",
            "마틴\t010-6789-7890\n"
          ]
        }
      ]
    },
    {
      "cell_type": "code",
      "source": [
        "# page54\n",
        "\n",
        "# print() 함수\n",
        "\n",
        "print('재미있는', '파이썬')\n",
        "print('재미있는 파이썬')\n",
        "print('재미있는', '파이썬', sep=',')    #구분자 --> 쉼표로 항목을 구분하라(기본은 그냥 띄어쓰기이지만, sep을 통해 구분자 설정 가능)\n",
        "print('재미있는', '파이썬', sep='/') \n",
        "print('재미있는', '파이썬', sep=':') "
      ],
      "metadata": {
        "colab": {
          "base_uri": "https://localhost:8080/"
        },
        "id": "bqaow7pxk94n",
        "outputId": "c0070888-83df-43c7-f981-3cc3357270be"
      },
      "execution_count": 90,
      "outputs": [
        {
          "output_type": "stream",
          "name": "stdout",
          "text": [
            "재미있는 파이썬\n",
            "재미있는 파이썬\n",
            "재미있는,파이썬\n",
            "재미있는/파이썬\n",
            "재미있는:파이썬\n"
          ]
        }
      ]
    },
    {
      "cell_type": "code",
      "source": [
        "print('영화 타이타닉')\n",
        "print('평점', end=':')\n",
        "print('5점')\n",
        "\n",
        "print('평점')\n",
        "print('5점')    #end를 넣으면 옆에다가 값을 출력\n",
        "\n",
        "print('평점', end='')\n",
        "print('5점')"
      ],
      "metadata": {
        "colab": {
          "base_uri": "https://localhost:8080/"
        },
        "id": "W_HbCkyqmNup",
        "outputId": "4c54b48d-7c6e-4139-de0f-ccb7ff5c5445"
      },
      "execution_count": 96,
      "outputs": [
        {
          "output_type": "stream",
          "name": "stdout",
          "text": [
            "영화 타이타닉\n",
            "평점:5점\n",
            "평점\n",
            "5점\n",
            "평점5점\n"
          ]
        }
      ]
    },
    {
      "cell_type": "code",
      "source": [
        "# page 56\n",
        "\n",
        "# % 연산자(비추)\n",
        "# 비추지만 꼭 써야할때도 있음(page57)\n",
        "\n",
        "print('%d' % 10)  #%d는 정수 10진수 자리표시자\n",
        "print('%o' % 10)  #%o는 정수 8진수 자리표시자\n",
        "print('%x' % 10)  #%x는 정수 16진수 자리표시자\n",
        "\n",
        "print('%f' % 3.14) \n",
        "print('%d' % 3.14)\n",
        "print('%s' % 'python')  #%s가 제일 편하다, 그냥 %s로 쓰면 된다  하지만 %연산자 자체가 너무 귀찮음(정답은 f스트링이다)\n",
        "print('%s' % '3.14')"
      ],
      "metadata": {
        "colab": {
          "base_uri": "https://localhost:8080/"
        },
        "id": "XYHPrDOfodyn",
        "outputId": "e6053200-4fe5-444d-d57c-bba686f55318"
      },
      "execution_count": 103,
      "outputs": [
        {
          "output_type": "stream",
          "name": "stdout",
          "text": [
            "10\n",
            "12\n",
            "a\n",
            "3.140000\n",
            "3\n",
            "python\n",
            "3.14\n"
          ]
        }
      ]
    },
    {
      "cell_type": "code",
      "source": [
        "print('%5d' % 1)  #다섯 칸을 확보하고 오른쪽부터 출력\n",
        "print('%d' % 1)\n",
        "print('%5d' % 11)\n",
        "print('%5d' % 1111)"
      ],
      "metadata": {
        "colab": {
          "base_uri": "https://localhost:8080/"
        },
        "id": "novx4qOetPnF",
        "outputId": "15a8f133-e958-46d0-d1ab-cd5fe5e47f47"
      },
      "execution_count": 110,
      "outputs": [
        {
          "output_type": "stream",
          "name": "stdout",
          "text": [
            "    1\n",
            "1\n",
            "   11\n",
            " 1111\n"
          ]
        }
      ]
    },
    {
      "cell_type": "code",
      "source": [
        "print('%-5d' % 11)  #다섯 칸을 확보하고 왼쪽부터 출력\n",
        "print('%-5d' % 1)\n",
        "\n",
        "# ##인쇄영역 확보의 의미##"
      ],
      "metadata": {
        "colab": {
          "base_uri": "https://localhost:8080/"
        },
        "id": "YVH4P_Eqt17e",
        "outputId": "72a9b773-ea34-4c89-a0cc-caa65b18e15b"
      },
      "execution_count": 112,
      "outputs": [
        {
          "output_type": "stream",
          "name": "stdout",
          "text": [
            "11   \n",
            "1    \n"
          ]
        }
      ]
    },
    {
      "cell_type": "code",
      "source": [
        "print('%5.2f' % 3.14)  #다섯 칸을 확보하고 소수 두자리까지 오른쪽부터 실수 출력\n",
        "print('%5.1f' % 3.14)  #다섯 칸을 확보하고 소수 한자리까지 오른쪽부터 실수 출력"
      ],
      "metadata": {
        "colab": {
          "base_uri": "https://localhost:8080/"
        },
        "id": "DuTBmpIMt_-E",
        "outputId": "0613b1b0-73ec-4dfe-daa7-21468c10b68b"
      },
      "execution_count": 116,
      "outputs": [
        {
          "output_type": "stream",
          "name": "stdout",
          "text": [
            " 3.14\n",
            "  3.1\n"
          ]
        }
      ]
    },
    {
      "cell_type": "code",
      "source": [
        "print('%-5.2f' % 3.14)  #다섯 칸을 확보하고 소수 두자리까지 왼쪽부터 실수 출력\n",
        "print('%-5.1f' % 3.14)  #다섯 칸을 확보하고 소수 한자리까지 왼쪽부터 실수 출력"
      ],
      "metadata": {
        "colab": {
          "base_uri": "https://localhost:8080/"
        },
        "id": "_E16emSHuhJj",
        "outputId": "11e2750b-7b89-450b-aedc-1f293cb998a2"
      },
      "execution_count": 118,
      "outputs": [
        {
          "output_type": "stream",
          "name": "stdout",
          "text": [
            "3.14 \n",
            "3.1  \n"
          ]
        }
      ]
    },
    {
      "cell_type": "code",
      "source": [
        "print('%.2f' % 3.14)   #소수 두자리까지 실수 출력\n",
        "print('%.1f' % 3.14)  #소수 한자리까지 실수 출력"
      ],
      "metadata": {
        "colab": {
          "base_uri": "https://localhost:8080/"
        },
        "id": "GfTrRRzyun5a",
        "outputId": "dbf8e6f5-27d2-45f1-f4e2-8356cda11386"
      },
      "execution_count": 121,
      "outputs": [
        {
          "output_type": "stream",
          "name": "stdout",
          "text": [
            "3.14\n",
            "3.1\n"
          ]
        }
      ]
    },
    {
      "cell_type": "code",
      "source": [
        "print('%s' % 3.14) #s(스트링)이 제일 편하다"
      ],
      "metadata": {
        "colab": {
          "base_uri": "https://localhost:8080/"
        },
        "id": "1Ftz3H1tu0gD",
        "outputId": "bb5b0f91-89c9-4706-8e5f-da219c2bb09f"
      },
      "execution_count": 123,
      "outputs": [
        {
          "output_type": "stream",
          "name": "stdout",
          "text": [
            "3.14\n"
          ]
        }
      ]
    },
    {
      "cell_type": "code",
      "source": [
        "# 기본 출력 방법\n",
        "a='학생'\n",
        "print(a,'입니다.')\n",
        "\n",
        "# f string 출력 방법\n",
        "print(f'{a} 입니다.')\n",
        "\n",
        "# %연산자 출력 방법\n",
        "print('%s 입니다.' % a)\n",
        "\n",
        "# format() 출력 방법\n",
        "print('{} 입니다.'.format(a))\n",
        "\n",
        "##기본 출력 방법과 f string이 제일 편하다##"
      ],
      "metadata": {
        "colab": {
          "base_uri": "https://localhost:8080/"
        },
        "id": "HsoAH0SvvCWc",
        "outputId": "72fbd287-4c43-4588-bf6b-5373df61fd86"
      },
      "execution_count": 132,
      "outputs": [
        {
          "output_type": "stream",
          "name": "stdout",
          "text": [
            "학생 입니다.\n",
            "학생 입니다.\n",
            "학생 입니다.\n",
            "학생 입니다.\n"
          ]
        }
      ]
    },
    {
      "cell_type": "code",
      "source": [
        "# format() 매서드\n",
        "\n",
        "print('My name is {}' .format('James'))"
      ],
      "metadata": {
        "colab": {
          "base_uri": "https://localhost:8080/"
        },
        "id": "7zMRcdQowXnH",
        "outputId": "d8249996-af65-4730-d08c-fac1ff9d2a43"
      },
      "execution_count": 134,
      "outputs": [
        {
          "output_type": "stream",
          "name": "stdout",
          "text": [
            "My name is James\n"
          ]
        }
      ]
    },
    {
      "cell_type": "code",
      "source": [
        "print('My name is {0}' .format('James'))  #위치 지정(0번째 자리에 넣어라)"
      ],
      "metadata": {
        "colab": {
          "base_uri": "https://localhost:8080/"
        },
        "id": "BcoHqQuXwr0o",
        "outputId": "2cd6d5dc-c59b-4d31-884c-a99824ed74c3"
      },
      "execution_count": 135,
      "outputs": [
        {
          "output_type": "stream",
          "name": "stdout",
          "text": [
            "My name is James\n"
          ]
        }
      ]
    },
    {
      "cell_type": "code",
      "source": [
        "print('My name is {name}' .format(name='James')) #변수명을 줘서 넣을수도 있음"
      ],
      "metadata": {
        "colab": {
          "base_uri": "https://localhost:8080/"
        },
        "id": "kX_jlQrlw0hi",
        "outputId": "327b297f-7c64-4110-ad91-80187410e8ae"
      },
      "execution_count": 136,
      "outputs": [
        {
          "output_type": "stream",
          "name": "stdout",
          "text": [
            "My name is James\n"
          ]
        }
      ]
    },
    {
      "cell_type": "code",
      "source": [
        "print('My name is {}. I\\'m {} years old.' .format('James',20))"
      ],
      "metadata": {
        "colab": {
          "base_uri": "https://localhost:8080/"
        },
        "id": "1DT1-I1SxDS4",
        "outputId": "ec0ee8df-1709-46f7-86a9-05b279f93513"
      },
      "execution_count": 140,
      "outputs": [
        {
          "output_type": "stream",
          "name": "stdout",
          "text": [
            "My name is James. I'm 20 years old.\n"
          ]
        }
      ]
    },
    {
      "cell_type": "code",
      "source": [
        "print('My name is {1}. I\\'m {0} years old.' .format('James',20))  #넘버링을 통해 뒤집어 넣을 수도 있음"
      ],
      "metadata": {
        "colab": {
          "base_uri": "https://localhost:8080/"
        },
        "id": "7hl9gt5dxS4H",
        "outputId": "12965ab0-b4c2-49a5-b17d-3ca003551cfc"
      },
      "execution_count": 141,
      "outputs": [
        {
          "output_type": "stream",
          "name": "stdout",
          "text": [
            "My name is 20. I'm James years old.\n"
          ]
        }
      ]
    },
    {
      "cell_type": "code",
      "source": [
        "print('My name is {name}. I\\'m {age} years old.'.format(name='James', age=20))"
      ],
      "metadata": {
        "colab": {
          "base_uri": "https://localhost:8080/"
        },
        "id": "m2rla0Apxi8X",
        "outputId": "f4fcb165-63ca-42de-844a-ad701426d2f6"
      },
      "execution_count": 142,
      "outputs": [
        {
          "output_type": "stream",
          "name": "stdout",
          "text": [
            "My name is James. I'm 20 years old.\n"
          ]
        }
      ]
    },
    {
      "cell_type": "code",
      "source": [
        "# f-strings (page 61) (강추)\n",
        "\n",
        "who = 'you'\n",
        "how = 'happy'\n",
        "\n",
        "print(f'{who} make me {how}')"
      ],
      "metadata": {
        "colab": {
          "base_uri": "https://localhost:8080/"
        },
        "id": "vhojlFDLx2DM",
        "outputId": "7a22944d-1db2-4d08-b5d6-6a23318e73da"
      },
      "execution_count": 144,
      "outputs": [
        {
          "output_type": "stream",
          "name": "stdout",
          "text": [
            "you make me happy\n"
          ]
        }
      ]
    },
    {
      "cell_type": "code",
      "source": [
        "age = 25\n",
        "print(f'내년엔 {age+1}살이 됩니다.')  #다른 출력 방법은 안에서 계산이 불가하지만, f-strings는 가능하다는 아주 큰 장점이 있다."
      ],
      "metadata": {
        "colab": {
          "base_uri": "https://localhost:8080/"
        },
        "id": "VSdMGyakyk62",
        "outputId": "32475dbe-56ea-416c-8eb2-3952f8cb8ca8"
      },
      "execution_count": 146,
      "outputs": [
        {
          "output_type": "stream",
          "name": "stdout",
          "text": [
            "내년엔 26살이 됩니다.\n"
          ]
        }
      ]
    },
    {
      "cell_type": "code",
      "source": [
        "# 표준 입력\n",
        "\n",
        "a = input()  #아래에서 입력\n",
        "print(a)"
      ],
      "metadata": {
        "colab": {
          "base_uri": "https://localhost:8080/"
        },
        "id": "fbxTmMSAzAci",
        "outputId": "60aaa889-ee15-41d5-837c-460dee6f30a9"
      },
      "execution_count": 148,
      "outputs": [
        {
          "output_type": "stream",
          "name": "stdout",
          "text": [
            "asd\n",
            "asd\n"
          ]
        }
      ]
    },
    {
      "cell_type": "code",
      "source": [
        "n = input('정수를 입력하세요 : ')\n",
        "print(n)"
      ],
      "metadata": {
        "colab": {
          "base_uri": "https://localhost:8080/"
        },
        "id": "ieD-uBpUzbcA",
        "outputId": "f4511a49-1b47-4e01-dd89-b38ef01824ed"
      },
      "execution_count": 152,
      "outputs": [
        {
          "output_type": "stream",
          "name": "stdout",
          "text": [
            "정수를 입력하세요 : 24세\n",
            "24세\n"
          ]
        }
      ]
    },
    {
      "cell_type": "code",
      "source": [
        "name = input('이름을 입력하세요>>>')\n",
        "age = input('나이를 입력하세요>>>')\n",
        "print(f'입력된 이름은 {name}입니다.')\n",
        "print(f'입력된 나이는 {age}입니다.')"
      ],
      "metadata": {
        "colab": {
          "base_uri": "https://localhost:8080/"
        },
        "id": "02KORT0Gzuiu",
        "outputId": "53796f43-5d96-48f7-e403-6fed3624a217"
      },
      "execution_count": 167,
      "outputs": [
        {
          "output_type": "stream",
          "name": "stdout",
          "text": [
            "이름을 입력하세요>>>홍길동\n",
            "나이를 입력하세요>>>30\n",
            "입력된 이름은 홍길동입니다.\n",
            "입력된 나이는 30입니다.\n"
          ]
        }
      ]
    },
    {
      "cell_type": "code",
      "source": [
        "name = input('이름을 입력하세요>>>')\n",
        "age = input('나이를 입력하세요>>>')\n",
        "\n",
        "\n",
        "print('입력된 이름은', name,'입니다')\n",
        "print('입력된 나이는',age,'입니다.' )"
      ],
      "metadata": {
        "colab": {
          "base_uri": "https://localhost:8080/"
        },
        "id": "tTEIynUf0WfA",
        "outputId": "ab4f94c6-8fc1-468e-f7c5-bc7688f4314e"
      },
      "execution_count": 169,
      "outputs": [
        {
          "output_type": "stream",
          "name": "stdout",
          "text": [
            "이름을 입력하세요>>>홍길동\n",
            "나이를 입력하세요>>>30\n",
            "입력된 이름은 홍길동 입니다\n",
            "입력된 나이는 30 입니다.\n"
          ]
        }
      ]
    },
    {
      "cell_type": "code",
      "source": [
        "name = input('이름을 입력하세요>>>')\n",
        "age = input('나이를 입력하세요>>>')\n",
        "\n",
        "print('입력된 이름은 {}입니다' .format(name))\n",
        "print('입력된 나이는 {}입니다.' .format(age) )"
      ],
      "metadata": {
        "colab": {
          "base_uri": "https://localhost:8080/"
        },
        "id": "2dhjKk-20wFw",
        "outputId": "7e88fb1d-a726-407a-c2d8-e6b82308dc80"
      },
      "execution_count": 163,
      "outputs": [
        {
          "output_type": "stream",
          "name": "stdout",
          "text": [
            "이름을 입력하세요>>>홍길동\n",
            "나이를 입력하세요>>>30\n",
            "입력된 이름은 홍길동입니다\n",
            "입력된 나이는 30입니다.\n"
          ]
        }
      ]
    },
    {
      "cell_type": "code",
      "source": [
        "name = input('이름을 입력하세요>>>')\n",
        "age = input('나이를 입력하세요>>>')\n",
        "\n",
        "print('입력된 이름은 %s입니다' % name)\n",
        "print('입력된 나이는 %s입니다.'% age)\n"
      ],
      "metadata": {
        "colab": {
          "base_uri": "https://localhost:8080/"
        },
        "id": "gDRVra3W03d7",
        "outputId": "e8f0189d-6ddf-4535-a32d-f0f323b4712e"
      },
      "execution_count": 165,
      "outputs": [
        {
          "output_type": "stream",
          "name": "stdout",
          "text": [
            "이름을 입력하세요>>>홍길동\n",
            "나이를 입력하세요>>>30\n",
            "입력된 이름은 홍길동입니다\n",
            "입력된 나이는 30입니다.\n"
          ]
        }
      ]
    }
  ]
}